{
 "cells": [
  {
   "cell_type": "code",
   "execution_count": null,
   "metadata": {},
   "outputs": [],
   "source": [
    "@app.route(\"/iou_processing\", methods=[\"GET\", \"POST\"])\n",
    "@login_required\n",
    "def iou_processing():\n",
    "\tconn = pyodbc.connect(RX_CONNECTION_STRING)\n",
    "\tcur = conn.cursor()\n",
    "\tiou_items = []\n",
    "\tbg = '#FFFFFF'\n",
    "\n",
    "\tif request.method != \"GET\" or request.method != \"POST\":\n",
    "\t\tcur.execute(\"\"\"EXEC dbo.batch_detail_for_completing_iou \"\"\")\n",
    "        rows = cur.fetchall()\n",
    "\n",
    "        if len(rows) > 0:\n",
    "            for row in rows:\n",
    "                i = collections.OrderedDict()\n",
    "                i['id'] = row.ID\n",
    "                i['del_bat_id'] = row.DEL_BAT_ID\n",
    "                i['fill_id'] = row.FIL_ID\n",
    "                i['fill_date'] = str(row.FIL_DATE).replace(\" 00:00:00\", \"\")\n",
    "                i['kop'] = row.FIL_KOP\n",
    "                i['facility'] = row.FACILITY\n",
    "                i['pat_id'] = row.PAT_ID\n",
    "                i['name'] = row.NAME\n",
    "                i['drg_dname'] = row.DRG_DNAME\n",
    "                i['drg_strength'] = row.DRG_STRENGTH\n",
    "                i['fill_qty'] = round(row.FILL_QTY,2)\n",
    "                i['iou_date'] = row.IOU_DATE\n",
    "                i['color'] = row.COLOR\n",
    "                i['pharm_tech'] = row.PHARM_TECH\n",
    "                i['iou_qty'] = round(row.IOU_QTY,2)\n",
    "                i['status'] = row.STATUS\n",
    "                \n",
    "                iou_items.append(i)\n",
    "\n",
    "        else:\n",
    "            iou_items = []\n",
    "    elif request.method == \"POST\":\n",
    "        sql = \"{CALL dbo.close_iou_request (?, ?, ?)}\"\n",
    "        id = request.form['clear_button']\n",
    "        user = session['initials']\n",
    "        status = \"IC\"\n",
    "        params = (int(id), user, status)\n",
    "        print(id)\n",
    "        cur.execute(sql,params)\n",
    "        conn.commit\n",
    "    else:\n",
    "        iou_items = []\n",
    "        \n",
    "\n",
    "    return render_template('iou_processing.html', iou_items=iou_items)"
   ]
  }
 ],
 "metadata": {
  "kernelspec": {
   "display_name": "Python 3",
   "language": "python",
   "name": "python3"
  },
  "language_info": {
   "codemirror_mode": {
    "name": "ipython",
    "version": 3
   },
   "file_extension": ".py",
   "mimetype": "text/x-python",
   "name": "python",
   "nbconvert_exporter": "python",
   "pygments_lexer": "ipython3",
   "version": "3.7.4"
  }
 },
 "nbformat": 4,
 "nbformat_minor": 4
}
